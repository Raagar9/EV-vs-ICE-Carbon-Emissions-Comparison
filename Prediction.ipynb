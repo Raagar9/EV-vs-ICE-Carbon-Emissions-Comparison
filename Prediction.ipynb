{
 "cells": [
  {
   "cell_type": "code",
   "execution_count": 9,
   "metadata": {},
   "outputs": [],
   "source": [
    "import numpy as np\n",
    "import pandas as pd\n",
    "from statsmodels.tsa.holtwinters import ExponentialSmoothing\n",
    "from statsmodels.tsa.arima.model import ARIMA\n",
    "from tensorflow.keras.models import Sequential\n",
    "from tensorflow.keras.layers import LSTM, Dense\n",
    "from sklearn.preprocessing import MinMaxScaler"
   ]
  },
  {
   "cell_type": "code",
   "execution_count": 10,
   "metadata": {},
   "outputs": [],
   "source": [
    "states = ['Andhra Pradesh', 'Arunachal Pradesh', 'Assam', 'Bihar', 'Chhattisgarh', 'Gujarat', 'Haryana', 'Himachal Pradesh', 'Jharkhand', 'Karnataka', 'Madhya Pradesh', 'Maharashtra', 'Manipur', 'Meghalaya', 'Mizoram', 'Nagaland', 'Odisha', 'Punjab', 'Rajasthan', 'Sikkim', 'Tamil Nadu', 'Telangana', 'Tripura', 'Uttar Pradesh', 'Uttarakhand', 'West Bengal']"
   ]
  },
  {
   "cell_type": "code",
   "execution_count": 11,
   "metadata": {},
   "outputs": [
    {
     "name": "stderr",
     "output_type": "stream",
     "text": [
      "C:\\Users\\anees\\AppData\\Roaming\\Python\\Python312\\site-packages\\statsmodels\\tsa\\statespace\\sarimax.py:966: UserWarning: Non-stationary starting autoregressive parameters found. Using zeros as starting parameters.\n",
      "  warn('Non-stationary starting autoregressive parameters'\n",
      "C:\\Users\\anees\\AppData\\Roaming\\Python\\Python312\\site-packages\\keras\\src\\layers\\rnn\\rnn.py:204: UserWarning: Do not pass an `input_shape`/`input_dim` argument to a layer. When using Sequential models, prefer using an `Input(shape)` object as the first layer in the model instead.\n",
      "  super().__init__(**kwargs)\n"
     ]
    },
    {
     "name": "stdout",
     "output_type": "stream",
     "text": [
      "ETS Forecast: [0.77321508 0.77785942 0.78250375 0.78714809 0.79179242]\n",
      "ARIMA Forecast: [0.77957185 0.77754057 0.77938965 0.77770642 0.77923868]\n",
      "LSTM Forecast: [0.7390465 0.7390465 0.7390465 0.7390465 0.7390465]\n",
      "Simple Average Forecast: [0.76394448 0.7648155  0.76697997 0.76796701 0.77002587]\n",
      "Weighted Average Forecast: [0.76487155 0.7661199  0.76853236 0.76988512 0.77220253]\n"
     ]
    }
   ],
   "source": [
    "# Example data\n",
    "data = [0.757415958, 0.724739389, 0.72008117, 0.758953258, 0.730860224, 0.757255898, 0.754841234, 0.76845962, 0.77734042]\n",
    "\n",
    "# ETS Model\n",
    "ets_model = ExponentialSmoothing(data, trend='add', seasonal=None)\n",
    "ets_fit = ets_model.fit()\n",
    "ets_forecast = ets_fit.forecast(steps=5)\n",
    "\n",
    "# ARIMA Model\n",
    "arima_model = ARIMA(data, order=(1, 1, 1))\n",
    "arima_fit = arima_model.fit()\n",
    "arima_forecast = arima_fit.forecast(steps=5)\n",
    "\n",
    "# LSTM Model\n",
    "scaler = MinMaxScaler(feature_range=(0, 1))\n",
    "data_scaled = scaler.fit_transform(np.array(data).reshape(-1, 1))\n",
    "\n",
    "# Create sequences\n",
    "sequence_length = 3\n",
    "X, y = [], []\n",
    "for i in range(len(data_scaled) - sequence_length):\n",
    "    X.append(data_scaled[i:i + sequence_length])\n",
    "    y.append(data_scaled[i + sequence_length])\n",
    "X, y = np.array(X), np.array(y)\n",
    "\n",
    "# Define LSTM model\n",
    "lstm_model = Sequential([\n",
    "    LSTM(50, activation='relu', input_shape=(sequence_length, 1)),\n",
    "    Dense(1)\n",
    "])\n",
    "lstm_model.compile(optimizer='adam', loss='mse')\n",
    "lstm_model.fit(X, y, epochs=50, verbose=0)\n",
    "\n",
    "# Prepare input for forecasting\n",
    "last_sequence = data_scaled[-sequence_length:].reshape(1, sequence_length, 1)\n",
    "lstm_forecast_scaled = [lstm_model.predict(last_sequence, verbose=0)[0, 0] for _ in range(5)]\n",
    "lstm_forecast = scaler.inverse_transform(np.array(lstm_forecast_scaled).reshape(-1, 1)).flatten()\n",
    "\n",
    "# Simple Average\n",
    "average_forecast = (ets_forecast + arima_forecast + lstm_forecast) / 3\n",
    "\n",
    "# Weighted Average (Example weights: 0.4, 0.3, 0.3 for ETS, ARIMA, LSTM)\n",
    "weights = [0.4, 0.3, 0.3]\n",
    "weighted_forecast = (weights[0] * ets_forecast +\n",
    "                     weights[1] * arima_forecast +\n",
    "                     weights[2] * lstm_forecast)\n",
    "\n",
    "print(\"ETS Forecast:\", ets_forecast)\n",
    "print(\"ARIMA Forecast:\", arima_forecast)\n",
    "print(\"LSTM Forecast:\", lstm_forecast)\n",
    "print(\"Simple Average Forecast:\", average_forecast)\n",
    "print(\"Weighted Average Forecast:\", weighted_forecast)"
   ]
  },
  {
   "cell_type": "code",
   "execution_count": null,
   "metadata": {},
   "outputs": [],
   "source": []
  }
 ],
 "metadata": {
  "kernelspec": {
   "display_name": "Python 3",
   "language": "python",
   "name": "python3"
  },
  "language_info": {
   "codemirror_mode": {
    "name": "ipython",
    "version": 3
   },
   "file_extension": ".py",
   "mimetype": "text/x-python",
   "name": "python",
   "nbconvert_exporter": "python",
   "pygments_lexer": "ipython3",
   "version": "3.12.6"
  }
 },
 "nbformat": 4,
 "nbformat_minor": 2
}
